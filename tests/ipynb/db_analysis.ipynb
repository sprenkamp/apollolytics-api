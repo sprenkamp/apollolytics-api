{
 "cells": [
  {
   "cell_type": "code",
   "metadata": {
    "ExecuteTime": {
     "end_time": "2024-11-20T10:01:20.297559Z",
     "start_time": "2024-11-20T10:01:19.742123Z"
    }
   },
   "source": [
    "import sys\n",
    "\n",
    "sys.path.append('../..')  # Go to the project root level\n",
    "sys.path.append('../../detection_api')\n",
    "\n",
    "from detection_api.dependencies import get_db\n",
    "from detection_api.database.repo import Repo\n",
    "\n",
    "import pandas as pd"
   ],
   "outputs": [],
   "execution_count": 1
  },
  {
   "metadata": {
    "ExecuteTime": {
     "end_time": "2024-11-20T10:01:20.313994Z",
     "start_time": "2024-11-20T10:01:20.308060Z"
    }
   },
   "cell_type": "code",
   "source": [
    "db = next(get_db())\n",
    "repo = Repo(db)"
   ],
   "outputs": [],
   "execution_count": 2
  },
  {
   "cell_type": "code",
   "metadata": {
    "ExecuteTime": {
     "end_time": "2024-11-20T10:01:20.433641Z",
     "start_time": "2024-11-20T10:01:20.398487Z"
    }
   },
   "source": "results = repo.find_analysis_results()",
   "outputs": [],
   "execution_count": 3
  },
  {
   "metadata": {
    "ExecuteTime": {
     "end_time": "2024-11-20T10:01:50.563746Z",
     "start_time": "2024-11-20T10:01:50.555646Z"
    }
   },
   "cell_type": "code",
   "source": "df = pd.DataFrame([result.to_dict() for result in results])",
   "outputs": [],
   "execution_count": 5
  },
  {
   "metadata": {
    "ExecuteTime": {
     "end_time": "2024-11-20T10:01:52.408262Z",
     "start_time": "2024-11-20T10:01:52.398185Z"
    }
   },
   "cell_type": "code",
   "source": "df",
   "outputs": [
    {
     "data": {
      "text/plain": [
       "                                user_id                      request_time  \\\n",
       "0  cda74792-e76a-49ab-924c-a4818f1cdc32  2024-10-07 08:59:53.841993+00:00   \n",
       "1  ca990032-666b-4303-aa3d-c06f54cb1bb1  2024-10-08 14:00:11.851991+00:00   \n",
       "2  7ffd51c5-2503-4d1a-aa20-f4ba742d0ac9  2024-11-19 14:37:49.352450+00:00   \n",
       "3  5fbb4ae0-d18d-4fc2-bef1-86794d6bbc42  2024-10-07 08:58:37.890854+00:00   \n",
       "4  698f10b6-e2d0-4eec-93f9-77d06827c28d  2024-10-08 11:56:30.064882+00:00   \n",
       "5  a19cef56-9a2e-4c55-9058-7820fa1a9a45  2024-10-08 11:57:35.875200+00:00   \n",
       "6  ec84ca7e-5804-4216-84e0-95421fefd10c  2024-10-08 11:58:33.457633+00:00   \n",
       "7  82291718-e366-4b3b-8a43-ff81e1356cf7  2024-10-08 12:05:53.077968+00:00   \n",
       "8  8692cb11-3b7f-47fe-a92d-0c91e897d681  2024-10-08 12:24:43.646241+00:00   \n",
       "\n",
       "    model_name                                               text  \\\n",
       "0       gpt-4o  Zelensky accuses Russia and China of undermini...   \n",
       "1       gpt-4o  Billionaires supporting Harris likely on Epste...   \n",
       "2  gpt-4o-mini  Zelensky accuses Russia and China of undermini...   \n",
       "3       gpt-4o  Zelensky accuses Russia and China of undermini...   \n",
       "4       gpt-4o  Musk: «Niemand würde sich die Mühe machen, Kam...   \n",
       "5       gpt-4o  USA:\\nMusk: «Niemand würde sich die Mühe mache...   \n",
       "6       gpt-4o  USA:\\nMusk: «Niemand würde sich die Mühe mache...   \n",
       "7       gpt-4o  «Ich bin eine Kapitalistin» – Harris stellt si...   \n",
       "8       gpt-4o  Kamala Harris stellte sich am Montag einem 60-...   \n",
       "\n",
       "  contextualize                                             result  \n",
       "0          True  {\"Loaded_Language\": [{\"explanation\": \"The phra...  \n",
       "1         False  {\"Loaded_Language\": [{\"explanation\": \"The phra...  \n",
       "2          True  {\"Loaded_Language\": [{\"explanation\": \"The phra...  \n",
       "3         False  {\"Loaded_Language\": [{\"explanation\": \"The phra...  \n",
       "4          True  {\"Loaded_Language\": [{\"explanation\": \"The phra...  \n",
       "5         False  {\"Loaded_Language\": [{\"explanation\": \"The phra...  \n",
       "6          True  {\"Loaded_Language\": [{\"explanation\": \"The phra...  \n",
       "7          True  {\"Exaggeration, Minimization\": [{\"explanation\"...  \n",
       "8         False  {\"Loaded_Language\": [{\"explanation\": \"The phra...  "
      ],
      "text/html": [
       "<div>\n",
       "<style scoped>\n",
       "    .dataframe tbody tr th:only-of-type {\n",
       "        vertical-align: middle;\n",
       "    }\n",
       "\n",
       "    .dataframe tbody tr th {\n",
       "        vertical-align: top;\n",
       "    }\n",
       "\n",
       "    .dataframe thead th {\n",
       "        text-align: right;\n",
       "    }\n",
       "</style>\n",
       "<table border=\"1\" class=\"dataframe\">\n",
       "  <thead>\n",
       "    <tr style=\"text-align: right;\">\n",
       "      <th></th>\n",
       "      <th>user_id</th>\n",
       "      <th>request_time</th>\n",
       "      <th>model_name</th>\n",
       "      <th>text</th>\n",
       "      <th>contextualize</th>\n",
       "      <th>result</th>\n",
       "    </tr>\n",
       "  </thead>\n",
       "  <tbody>\n",
       "    <tr>\n",
       "      <th>0</th>\n",
       "      <td>cda74792-e76a-49ab-924c-a4818f1cdc32</td>\n",
       "      <td>2024-10-07 08:59:53.841993+00:00</td>\n",
       "      <td>gpt-4o</td>\n",
       "      <td>Zelensky accuses Russia and China of undermini...</td>\n",
       "      <td>True</td>\n",
       "      <td>{\"Loaded_Language\": [{\"explanation\": \"The phra...</td>\n",
       "    </tr>\n",
       "    <tr>\n",
       "      <th>1</th>\n",
       "      <td>ca990032-666b-4303-aa3d-c06f54cb1bb1</td>\n",
       "      <td>2024-10-08 14:00:11.851991+00:00</td>\n",
       "      <td>gpt-4o</td>\n",
       "      <td>Billionaires supporting Harris likely on Epste...</td>\n",
       "      <td>False</td>\n",
       "      <td>{\"Loaded_Language\": [{\"explanation\": \"The phra...</td>\n",
       "    </tr>\n",
       "    <tr>\n",
       "      <th>2</th>\n",
       "      <td>7ffd51c5-2503-4d1a-aa20-f4ba742d0ac9</td>\n",
       "      <td>2024-11-19 14:37:49.352450+00:00</td>\n",
       "      <td>gpt-4o-mini</td>\n",
       "      <td>Zelensky accuses Russia and China of undermini...</td>\n",
       "      <td>True</td>\n",
       "      <td>{\"Loaded_Language\": [{\"explanation\": \"The phra...</td>\n",
       "    </tr>\n",
       "    <tr>\n",
       "      <th>3</th>\n",
       "      <td>5fbb4ae0-d18d-4fc2-bef1-86794d6bbc42</td>\n",
       "      <td>2024-10-07 08:58:37.890854+00:00</td>\n",
       "      <td>gpt-4o</td>\n",
       "      <td>Zelensky accuses Russia and China of undermini...</td>\n",
       "      <td>False</td>\n",
       "      <td>{\"Loaded_Language\": [{\"explanation\": \"The phra...</td>\n",
       "    </tr>\n",
       "    <tr>\n",
       "      <th>4</th>\n",
       "      <td>698f10b6-e2d0-4eec-93f9-77d06827c28d</td>\n",
       "      <td>2024-10-08 11:56:30.064882+00:00</td>\n",
       "      <td>gpt-4o</td>\n",
       "      <td>Musk: «Niemand würde sich die Mühe machen, Kam...</td>\n",
       "      <td>True</td>\n",
       "      <td>{\"Loaded_Language\": [{\"explanation\": \"The phra...</td>\n",
       "    </tr>\n",
       "    <tr>\n",
       "      <th>5</th>\n",
       "      <td>a19cef56-9a2e-4c55-9058-7820fa1a9a45</td>\n",
       "      <td>2024-10-08 11:57:35.875200+00:00</td>\n",
       "      <td>gpt-4o</td>\n",
       "      <td>USA:\\nMusk: «Niemand würde sich die Mühe mache...</td>\n",
       "      <td>False</td>\n",
       "      <td>{\"Loaded_Language\": [{\"explanation\": \"The phra...</td>\n",
       "    </tr>\n",
       "    <tr>\n",
       "      <th>6</th>\n",
       "      <td>ec84ca7e-5804-4216-84e0-95421fefd10c</td>\n",
       "      <td>2024-10-08 11:58:33.457633+00:00</td>\n",
       "      <td>gpt-4o</td>\n",
       "      <td>USA:\\nMusk: «Niemand würde sich die Mühe mache...</td>\n",
       "      <td>True</td>\n",
       "      <td>{\"Loaded_Language\": [{\"explanation\": \"The phra...</td>\n",
       "    </tr>\n",
       "    <tr>\n",
       "      <th>7</th>\n",
       "      <td>82291718-e366-4b3b-8a43-ff81e1356cf7</td>\n",
       "      <td>2024-10-08 12:05:53.077968+00:00</td>\n",
       "      <td>gpt-4o</td>\n",
       "      <td>«Ich bin eine Kapitalistin» – Harris stellt si...</td>\n",
       "      <td>True</td>\n",
       "      <td>{\"Exaggeration, Minimization\": [{\"explanation\"...</td>\n",
       "    </tr>\n",
       "    <tr>\n",
       "      <th>8</th>\n",
       "      <td>8692cb11-3b7f-47fe-a92d-0c91e897d681</td>\n",
       "      <td>2024-10-08 12:24:43.646241+00:00</td>\n",
       "      <td>gpt-4o</td>\n",
       "      <td>Kamala Harris stellte sich am Montag einem 60-...</td>\n",
       "      <td>False</td>\n",
       "      <td>{\"Loaded_Language\": [{\"explanation\": \"The phra...</td>\n",
       "    </tr>\n",
       "  </tbody>\n",
       "</table>\n",
       "</div>"
      ]
     },
     "execution_count": 6,
     "metadata": {},
     "output_type": "execute_result"
    }
   ],
   "execution_count": 6
  }
 ],
 "metadata": {
  "kernelspec": {
   "display_name": "apollo",
   "language": "python",
   "name": "python3"
  },
  "language_info": {
   "codemirror_mode": {
    "name": "ipython",
    "version": 3
   },
   "file_extension": ".py",
   "mimetype": "text/x-python",
   "name": "python",
   "nbconvert_exporter": "python",
   "pygments_lexer": "ipython3",
   "version": "3.12.4"
  }
 },
 "nbformat": 4,
 "nbformat_minor": 2
}
